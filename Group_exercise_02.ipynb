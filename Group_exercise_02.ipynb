{
 "cells": [
  {
   "cell_type": "markdown",
   "metadata": {},
   "source": [
    "# Group Exercise 2"
   ]
  },
  {
   "cell_type": "code",
   "execution_count": 5,
   "metadata": {},
   "outputs": [
    {
     "name": "stderr",
     "output_type": "stream",
     "text": [
      "[nltk_data] Downloading package stopwords to\n",
      "[nltk_data]     C:\\Users\\Thomas\\AppData\\Roaming\\nltk_data...\n",
      "[nltk_data]   Package stopwords is already up-to-date!\n"
     ]
    }
   ],
   "source": [
    "# on first time run\n",
    "# !pip install --user scikit-learn\n",
    "# !pip install --user nltk\n",
    "\n",
    "# import packages and stopwords list\n",
    "\n",
    "\n",
    "import pandas as pd\n",
    "from sklearn.feature_extraction.text import CountVectorizer, TfidfVectorizer\n",
    "from textblob import TextBlob\n",
    "import nltk\n",
    "nltk.download('stopwords')\n",
    "\n",
    "from nltk.corpus import stopwords\n",
    "\n",
    "# use English stopwords\n",
    "stops = set(stopwords.words(\"english\"))\n",
    "\n",
    "# read the data\n",
    "df = pd.read_csv('Reviews.csv')\n",
    "\n",
    "# drop data with missing values\n",
    "df = df.dropna()\n",
    "\n",
    "# convert the relevant column to lowercase\n",
    "df['Review'] = df.Review.str.lower() \n",
    "\n",
    "# set vectorizer - CountVectorizer for word counts and TfidfVectorizer for TF-IDF\n",
    "vectorizer = CountVectorizer()\n",
    "# vectorizer = TfidfVectorizer()\n",
    "\n",
    "# create an array of word counts / TF-IDF scores\n",
    "doc_vec = vectorizer.fit_transform(df.Review)\n",
    "\n",
    "# convert this to a dataframe\n",
    "df2 = pd.DataFrame(doc_vec.toarray(), columns=vectorizer.get_feature_names())\n",
    "\n",
    "# drop any columns which are based on stopwords\n",
    "df2 = df2.drop(columns=[col for col in df2 if col in stops])\n",
    "\n",
    "# set a threshold to drop infrequent words\n",
    "threshold = 0.2\n",
    "\n",
    "# drop words based on the threshold\n",
    "df2 = df2.drop(df2.mean()[df2.mean() < threshold].index.values, axis=1)\n",
    "\n",
    "# join the two datasets together\n",
    "df = df.join(df2, how='left')\n",
    "\n",
    "# set vectorizer - CountVectorizer for word counts and TfidfVectorizer for TF-IDF\n",
    "vectorizer = TfidfVectorizer()\n",
    "\n",
    "# create an array of word counts / TF-IDF scores\n",
    "doc_vec = vectorizer.fit_transform(df.Review)\n",
    "\n",
    "# convert this to a dataframe\n",
    "df3 = pd.DataFrame(doc_vec.toarray(), columns=vectorizer.get_feature_names())\n",
    "\n",
    "# drop any columns which are based on stopwords\n",
    "df3 = df3.drop(columns=[col for col in df3 if col in stops])\n",
    "\n",
    "threshold = 0.7\n",
    "\n",
    "\n",
    "# drop words based on the threshold\n",
    "df3 = df3.drop(df3.max()[df3.max() < threshold].index.values, axis=1)\n",
    "\n",
    "# rename columns to include 'tfidf'\n",
    "df3.rename(columns=lambda x: x + \"-tfidf\", inplace=True)\n",
    "\n",
    "# join the two datasets together\n",
    "df = df.join(df3, how='left')\n",
    "\n",
    "# calculate polarity and subjectivity\n",
    "df['Polarity'] = df['Review'].apply(lambda review: TextBlob(str(review)).sentiment.polarity)\n",
    "df['Subjectivity'] = df['Review'].apply(lambda review: TextBlob(str(review)).sentiment.subjectivity)\n",
    "\n",
    "# write the dataframe out to csv\n",
    "df.to_csv('output2.csv')\n",
    "\n"
   ]
  },
  {
   "cell_type": "code",
   "execution_count": null,
   "metadata": {},
   "outputs": [],
   "source": []
  }
 ],
 "metadata": {
  "kernelspec": {
   "display_name": "Python 3",
   "language": "python",
   "name": "python3"
  },
  "language_info": {
   "codemirror_mode": {
    "name": "ipython",
    "version": 3
   },
   "file_extension": ".py",
   "mimetype": "text/x-python",
   "name": "python",
   "nbconvert_exporter": "python",
   "pygments_lexer": "ipython3",
   "version": "3.7.4"
  }
 },
 "nbformat": 4,
 "nbformat_minor": 2
}
